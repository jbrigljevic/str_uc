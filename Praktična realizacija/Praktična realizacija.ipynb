{
 "cells": [
  {
   "cell_type": "markdown",
   "id": "3bb06f7c",
   "metadata": {},
   "source": [
    "# Opće uvjetovanosti"
   ]
  },
  {
   "cell_type": "code",
   "execution_count": 3,
   "id": "c3bde2bd",
   "metadata": {},
   "outputs": [],
   "source": [
    "import re\n",
    "import numpy as np\n",
    "import pandas as pd\n",
    "import matplotlib.pyplot as plt"
   ]
  },
  {
   "cell_type": "code",
   "execution_count": 4,
   "id": "95181ae7",
   "metadata": {},
   "outputs": [],
   "source": [
    "def skini(url: str, datoteka: str):\n",
    "    import urllib.request as rq, pathlib\n",
    "    with rq.urlopen(url) as konekcija:\n",
    "        pathlib.Path(datoteka).write_bytes(konekcija.read())\n",
    "        \n",
    "test_podaci = 'https://raw.githubusercontent.com/jbrigljevic/str_uc/main/Podaci/test.csv'\n",
    "train_podaci = 'https://raw.githubusercontent.com/jbrigljevic/str_uc/main/Podaci/train.csv'\n",
    "skini(test_podaci, 'test_podaci.csv')\n",
    "skini(train_podaci, 'train_podaci.csv')"
   ]
  },
  {
   "cell_type": "code",
   "execution_count": 5,
   "id": "c1e5c0e8",
   "metadata": {},
   "outputs": [],
   "source": [
    "test_data = pd.read_csv('test_podaci.csv')\n",
    "train_data = pd.read_csv('train_podaci.csv')"
   ]
  },
  {
   "cell_type": "code",
   "execution_count": 6,
   "id": "bf66b47b",
   "metadata": {},
   "outputs": [
    {
     "data": {
      "text/html": [
       "<div>\n",
       "<style scoped>\n",
       "    .dataframe tbody tr th:only-of-type {\n",
       "        vertical-align: middle;\n",
       "    }\n",
       "\n",
       "    .dataframe tbody tr th {\n",
       "        vertical-align: top;\n",
       "    }\n",
       "\n",
       "    .dataframe thead th {\n",
       "        text-align: right;\n",
       "    }\n",
       "</style>\n",
       "<table border=\"1\" class=\"dataframe\">\n",
       "  <thead>\n",
       "    <tr style=\"text-align: right;\">\n",
       "      <th></th>\n",
       "      <th>id</th>\n",
       "      <th>keyword</th>\n",
       "      <th>location</th>\n",
       "      <th>text</th>\n",
       "      <th>target</th>\n",
       "    </tr>\n",
       "  </thead>\n",
       "  <tbody>\n",
       "    <tr>\n",
       "      <th>0</th>\n",
       "      <td>1</td>\n",
       "      <td>NaN</td>\n",
       "      <td>NaN</td>\n",
       "      <td>Our Deeds are the Reason of this #earthquake M...</td>\n",
       "      <td>1</td>\n",
       "    </tr>\n",
       "    <tr>\n",
       "      <th>1</th>\n",
       "      <td>4</td>\n",
       "      <td>NaN</td>\n",
       "      <td>NaN</td>\n",
       "      <td>Forest fire near La Ronge Sask. Canada</td>\n",
       "      <td>1</td>\n",
       "    </tr>\n",
       "    <tr>\n",
       "      <th>2</th>\n",
       "      <td>5</td>\n",
       "      <td>NaN</td>\n",
       "      <td>NaN</td>\n",
       "      <td>All residents asked to 'shelter in place' are ...</td>\n",
       "      <td>1</td>\n",
       "    </tr>\n",
       "    <tr>\n",
       "      <th>3</th>\n",
       "      <td>6</td>\n",
       "      <td>NaN</td>\n",
       "      <td>NaN</td>\n",
       "      <td>13,000 people receive #wildfires evacuation or...</td>\n",
       "      <td>1</td>\n",
       "    </tr>\n",
       "    <tr>\n",
       "      <th>4</th>\n",
       "      <td>7</td>\n",
       "      <td>NaN</td>\n",
       "      <td>NaN</td>\n",
       "      <td>Just got sent this photo from Ruby #Alaska as ...</td>\n",
       "      <td>1</td>\n",
       "    </tr>\n",
       "    <tr>\n",
       "      <th>...</th>\n",
       "      <td>...</td>\n",
       "      <td>...</td>\n",
       "      <td>...</td>\n",
       "      <td>...</td>\n",
       "      <td>...</td>\n",
       "    </tr>\n",
       "    <tr>\n",
       "      <th>7608</th>\n",
       "      <td>10869</td>\n",
       "      <td>NaN</td>\n",
       "      <td>NaN</td>\n",
       "      <td>Two giant cranes holding a bridge collapse int...</td>\n",
       "      <td>1</td>\n",
       "    </tr>\n",
       "    <tr>\n",
       "      <th>7609</th>\n",
       "      <td>10870</td>\n",
       "      <td>NaN</td>\n",
       "      <td>NaN</td>\n",
       "      <td>@aria_ahrary @TheTawniest The out of control w...</td>\n",
       "      <td>1</td>\n",
       "    </tr>\n",
       "    <tr>\n",
       "      <th>7610</th>\n",
       "      <td>10871</td>\n",
       "      <td>NaN</td>\n",
       "      <td>NaN</td>\n",
       "      <td>M1.94 [01:04 UTC]?5km S of Volcano Hawaii. htt...</td>\n",
       "      <td>1</td>\n",
       "    </tr>\n",
       "    <tr>\n",
       "      <th>7611</th>\n",
       "      <td>10872</td>\n",
       "      <td>NaN</td>\n",
       "      <td>NaN</td>\n",
       "      <td>Police investigating after an e-bike collided ...</td>\n",
       "      <td>1</td>\n",
       "    </tr>\n",
       "    <tr>\n",
       "      <th>7612</th>\n",
       "      <td>10873</td>\n",
       "      <td>NaN</td>\n",
       "      <td>NaN</td>\n",
       "      <td>The Latest: More Homes Razed by Northern Calif...</td>\n",
       "      <td>1</td>\n",
       "    </tr>\n",
       "  </tbody>\n",
       "</table>\n",
       "<p>7613 rows × 5 columns</p>\n",
       "</div>"
      ],
      "text/plain": [
       "         id keyword location  \\\n",
       "0         1     NaN      NaN   \n",
       "1         4     NaN      NaN   \n",
       "2         5     NaN      NaN   \n",
       "3         6     NaN      NaN   \n",
       "4         7     NaN      NaN   \n",
       "...     ...     ...      ...   \n",
       "7608  10869     NaN      NaN   \n",
       "7609  10870     NaN      NaN   \n",
       "7610  10871     NaN      NaN   \n",
       "7611  10872     NaN      NaN   \n",
       "7612  10873     NaN      NaN   \n",
       "\n",
       "                                                   text  target  \n",
       "0     Our Deeds are the Reason of this #earthquake M...       1  \n",
       "1                Forest fire near La Ronge Sask. Canada       1  \n",
       "2     All residents asked to 'shelter in place' are ...       1  \n",
       "3     13,000 people receive #wildfires evacuation or...       1  \n",
       "4     Just got sent this photo from Ruby #Alaska as ...       1  \n",
       "...                                                 ...     ...  \n",
       "7608  Two giant cranes holding a bridge collapse int...       1  \n",
       "7609  @aria_ahrary @TheTawniest The out of control w...       1  \n",
       "7610  M1.94 [01:04 UTC]?5km S of Volcano Hawaii. htt...       1  \n",
       "7611  Police investigating after an e-bike collided ...       1  \n",
       "7612  The Latest: More Homes Razed by Northern Calif...       1  \n",
       "\n",
       "[7613 rows x 5 columns]"
      ]
     },
     "execution_count": 6,
     "metadata": {},
     "output_type": "execute_result"
    }
   ],
   "source": [
    "train_data"
   ]
  },
  {
   "cell_type": "markdown",
   "id": "33526621",
   "metadata": {},
   "source": [
    "# k-nn "
   ]
  },
  {
   "cell_type": "code",
   "execution_count": 7,
   "id": "f1711b81",
   "metadata": {},
   "outputs": [
    {
     "name": "stderr",
     "output_type": "stream",
     "text": [
      "[nltk_data] Downloading package omw-1.4 to\n",
      "[nltk_data]     C:\\Users\\Juraj\\AppData\\Roaming\\nltk_data...\n",
      "[nltk_data]   Package omw-1.4 is already up-to-date!\n",
      "[nltk_data] Downloading package genesis to\n",
      "[nltk_data]     C:\\Users\\Juraj\\AppData\\Roaming\\nltk_data...\n",
      "[nltk_data]   Package genesis is already up-to-date!\n",
      "[nltk_data] Downloading package wordnet to\n",
      "[nltk_data]     C:\\Users\\Juraj\\AppData\\Roaming\\nltk_data...\n",
      "[nltk_data]   Package wordnet is already up-to-date!\n",
      "[nltk_data] Downloading package punkt to\n",
      "[nltk_data]     C:\\Users\\Juraj\\AppData\\Roaming\\nltk_data...\n",
      "[nltk_data]   Package punkt is already up-to-date!\n",
      "[nltk_data] Downloading package averaged_perceptron_tagger to\n",
      "[nltk_data]     C:\\Users\\Juraj\\AppData\\Roaming\\nltk_data...\n",
      "[nltk_data]   Package averaged_perceptron_tagger is already up-to-\n",
      "[nltk_data]       date!\n",
      "[nltk_data] Downloading package stopwords to\n",
      "[nltk_data]     C:\\Users\\Juraj\\AppData\\Roaming\\nltk_data...\n",
      "[nltk_data]   Package stopwords is already up-to-date!\n"
     ]
    }
   ],
   "source": [
    "import nltk\n",
    "nltk.download('omw-1.4')\n",
    "from nltk.corpus import wordnet as wn\n",
    "from nltk.corpus import genesis\n",
    "from nltk.corpus import stopwords\n",
    "nltk.download('genesis')\n",
    "nltk.download('wordnet')\n",
    "nltk.download('punkt')\n",
    "nltk.download('averaged_perceptron_tagger')\n",
    "nltk.download('stopwords')\n",
    "genesis_ic = wn.ic(genesis, False, 0.0)\n",
    "\n",
    "\n",
    "from sklearn.neighbors import KNeighborsClassifier\n",
    "from sklearn.feature_extraction.text import CountVectorizer\n",
    "from sklearn.feature_extraction.text import TfidfTransformer\n",
    "from sklearn.pipeline import Pipeline\n",
    "from sklearn.metrics import f1_score\n",
    "\n",
    "import csv"
   ]
  },
  {
   "cell_type": "markdown",
   "id": "cf2b9879",
   "metadata": {},
   "source": [
    "Sada kada imamo podatke, počistit ćemo neke od čestih riječi (eng. stopwords), kako bismo imali kvalitetnije značajke. Osim toga sve pretvaramo u mala slova."
   ]
  },
  {
   "cell_type": "code",
   "execution_count": 8,
   "id": "61a32c49",
   "metadata": {},
   "outputs": [
    {
     "name": "stdout",
     "output_type": "stream",
     "text": [
      "df_train nakon micanja stop riječi\n",
      "0           deed reason earthquake may allah forgive u\n",
      "1                forest fire near la ronge sask canada\n",
      "2    resident asked shelter place notified officer ...\n",
      "3    people receive wildfire evacuation order calif...\n",
      "4    got sent photo ruby alaska smoke wildfire pour...\n",
      "5    rockyfire update california hwy closed directi...\n",
      "6    flood disaster heavy rain cause flash flooding...\n",
      "7                               top hill see fire wood\n",
      "8    emergency evacuation happening building across...\n",
      "9                           afraid tornado coming area\n",
      "Name: text, dtype: object\n",
      "df_test nakon micanja stop riječi\n",
      "0                          happened terrible car crash\n",
      "1    heard earthquake different city stay safe ever...\n",
      "2    forest fire spot pond goose fleeing across str...\n",
      "3                 apocalypse lighting spokane wildfire\n",
      "4                   typhoon soudelor kill china taiwan\n",
      "5                                   shaking earthquake\n",
      "6     probably still show life arsenal yesterday eh eh\n",
      "7                                                  hey\n",
      "8                                             nice hat\n",
      "9                                                 fuck\n",
      "Name: text, dtype: object\n"
     ]
    }
   ],
   "source": [
    "df_train = train_data\n",
    "df_test = test_data\n",
    "\n",
    "s = stopwords.words('english')\n",
    "# dodatne stop riječi\n",
    "s.extend(['today', 'tomorrow', 'outside', 'out', 'there'])\n",
    "ps = nltk.wordnet.WordNetLemmatizer()\n",
    "\n",
    "for i in range(df_train.shape[0]):\n",
    "    review = re.sub('[^a-zA-Z]', ' ', df_train.loc[i,'text'])\n",
    "    review = review.lower()\n",
    "    review = review.split()\n",
    "    review = [ps.lemmatize(word) for word in review if not word in s]\n",
    "    review = ' '.join(review)\n",
    "    df_train.loc[i, 'text'] = review\n",
    "    \n",
    "X_train = df_train['text']\n",
    "y_train = df_train['target']\n",
    "\n",
    "print(\"df_train nakon micanja stop riječi\")\n",
    "print(df_train['text'][:10])\n",
    "\n",
    "for i in range(df_test.shape[0]):\n",
    "    review = re.sub('[^a-zA-Z]', ' ', df_test.loc[i,'text'])\n",
    "    review = review.lower()\n",
    "    review = review.split()\n",
    "    review = [ps.lemmatize(word) for word in review if not word in s]\n",
    "    review = ' '.join(review)\n",
    "    df_test.loc[i, 'text'] = review\n",
    "    \n",
    "X_test = df_test['text']\n",
    "\n",
    "print(\"df_test nakon micanja stop riječi\")\n",
    "print(df_test['text'][:10])"
   ]
  },
  {
   "cell_type": "markdown",
   "id": "13fd21d5",
   "metadata": {},
   "source": [
    "Prvi model nam je k-nn. Tweetove pretvaramo u matrice koristeći se metodom *CountVectorizer* koja pamti frekvencije pojavljivanja riječi iz određene abecede (u ovom slučaju svih riječi koje se pojavljuju). Matricu zatim normaliziramo metodom *tfidf_transformer* i možemo lagano predvidjeti oznake pomoću k-nn"
   ]
  },
  {
   "cell_type": "code",
   "execution_count": 9,
   "id": "60bbea58",
   "metadata": {},
   "outputs": [
    {
     "data": {
      "text/plain": [
       "<7613x20677 sparse matrix of type '<class 'numpy.float64'>'\n",
       "\twith 81987 stored elements in Compressed Sparse Row format>"
      ]
     },
     "execution_count": 9,
     "metadata": {},
     "output_type": "execute_result"
    }
   ],
   "source": [
    "# izgradi rječnik značajki i pretvori tweetove u matricu s frekvencijama tokena \n",
    "count_vect = CountVectorizer()\n",
    "X_train_counts = count_vect.fit_transform(X_train)\n",
    "\n",
    "# pretvori matricu u  normalnu tf-idf reprezentaciju\n",
    "tfidf_transformer = TfidfTransformer()\n",
    "X_train_tfidf = tfidf_transformer.fit_transform(X_train_counts)\n",
    "X_train_tfidf"
   ]
  },
  {
   "cell_type": "code",
   "execution_count": 10,
   "id": "a1628094",
   "metadata": {},
   "outputs": [
    {
     "data": {
      "text/plain": [
       "array([0], dtype=int64)"
      ]
     },
     "execution_count": 10,
     "metadata": {},
     "output_type": "execute_result"
    }
   ],
   "source": [
    "knn = KNeighborsClassifier(n_neighbors = 1)\n",
    "\n",
    "clf = knn.fit(X_train_tfidf, y_train)\n",
    "\n",
    "primjer = [X_test[0]]\n",
    "X_ex_counts = count_vect.transform(primjer)\n",
    "# koristimo se transform metodom, jer je model već fitan\n",
    "X_ex_tfidf = tfidf_transformer.transform(X_ex_counts)\n",
    "predicted = clf.predict(X_ex_tfidf)\n",
    "predicted"
   ]
  },
  {
   "cell_type": "code",
   "execution_count": 11,
   "id": "a3451eba",
   "metadata": {},
   "outputs": [],
   "source": [
    "def knn_pipeline(k_value, vocabulary = None, train_x = X_train, train_y = y_train, predict_x = X_test):\n",
    "    # sve zajedno stavljamo u pipeline\n",
    "    knn = KNeighborsClassifier(n_neighbors = k_value)\n",
    "    tweet_clf = Pipeline([\n",
    "        ('vect', CountVectorizer(vocabulary = vocabulary)),\n",
    "        ('tfidf', TfidfTransformer()),\n",
    "        ('clf', knn),\n",
    "    ])\n",
    "    # fitamo podatke za treniranje\n",
    "    tweet_clf.fit(train_x, train_y)\n",
    "    \n",
    "    # klasificiramo testne podatke\n",
    "    predicted = tweet_clf.predict(predict_x)\n",
    "    \n",
    "    return predicted"
   ]
  },
  {
   "cell_type": "code",
   "execution_count": 13,
   "id": "57ad9bca",
   "metadata": {},
   "outputs": [],
   "source": [
    "from sklearn.model_selection import train_test_split\n",
    "X_train_findk, X_test_findk, y_train_findk, y_test_findk = train_test_split(X_train, y_train, test_size = 0.2, random_state = 4)"
   ]
  },
  {
   "cell_type": "code",
   "execution_count": 14,
   "id": "c2629ff1",
   "metadata": {
    "scrolled": true
   },
   "outputs": [
    {
     "data": {
      "text/plain": [
       "0.6018068102849201"
      ]
     },
     "execution_count": 14,
     "metadata": {},
     "output_type": "execute_result"
    }
   ],
   "source": [
    "predicted = knn_pipeline(i, train_x = X_train_findk, train_y = y_train_findk, predict_x = X_test_findk) \n",
    "f1_score(y_test_findk, predicted)"
   ]
  },
  {
   "cell_type": "code",
   "execution_count": 15,
   "id": "ac5c12d3",
   "metadata": {},
   "outputs": [],
   "source": [
    "# export u csv\n",
    "def export_csv(predicted, file_name):\n",
    "    \"\"\"Args: list of predicted values, string containing the file name to export to\"\"\"\n",
    "    \n",
    "    dict = {\"id\":list(df_test[\"id\"]), \"target\":predicted}\n",
    "    df_test_export = pd.DataFrame(dict)\n",
    "    df_test_export.set_index(\"id\", inplace = True)\n",
    "    retci = [[\"id\", \"target\"]]\n",
    "    for i in range(len(df_test_export.index)):\n",
    "        retci.append([df_test_export.index[i], predicted[i]])\n",
    "    \n",
    "    np.savetxt(file_name, retci, delimiter =\",\", fmt ='% s')"
   ]
  },
  {
   "cell_type": "markdown",
   "id": "a3c75bc9",
   "metadata": {},
   "source": [
    "Iskoristimo trening set kako bismo pronašli što bolji *k*. "
   ]
  },
  {
   "cell_type": "code",
   "execution_count": 18,
   "id": "8446fd94",
   "metadata": {},
   "outputs": [
    {
     "data": {
      "text/html": [
       "<div>\n",
       "<style scoped>\n",
       "    .dataframe tbody tr th:only-of-type {\n",
       "        vertical-align: middle;\n",
       "    }\n",
       "\n",
       "    .dataframe tbody tr th {\n",
       "        vertical-align: top;\n",
       "    }\n",
       "\n",
       "    .dataframe thead th {\n",
       "        text-align: right;\n",
       "    }\n",
       "</style>\n",
       "<table border=\"1\" class=\"dataframe\">\n",
       "  <thead>\n",
       "    <tr style=\"text-align: right;\">\n",
       "      <th></th>\n",
       "      <th>id</th>\n",
       "      <th>keyword</th>\n",
       "      <th>location</th>\n",
       "      <th>text</th>\n",
       "    </tr>\n",
       "  </thead>\n",
       "  <tbody>\n",
       "    <tr>\n",
       "      <th>0</th>\n",
       "      <td>0</td>\n",
       "      <td>NaN</td>\n",
       "      <td>NaN</td>\n",
       "      <td>happened terrible car crash</td>\n",
       "    </tr>\n",
       "    <tr>\n",
       "      <th>1</th>\n",
       "      <td>2</td>\n",
       "      <td>NaN</td>\n",
       "      <td>NaN</td>\n",
       "      <td>heard earthquake different city stay safe ever...</td>\n",
       "    </tr>\n",
       "    <tr>\n",
       "      <th>2</th>\n",
       "      <td>3</td>\n",
       "      <td>NaN</td>\n",
       "      <td>NaN</td>\n",
       "      <td>forest fire spot pond goose fleeing across str...</td>\n",
       "    </tr>\n",
       "    <tr>\n",
       "      <th>3</th>\n",
       "      <td>9</td>\n",
       "      <td>NaN</td>\n",
       "      <td>NaN</td>\n",
       "      <td>apocalypse lighting spokane wildfire</td>\n",
       "    </tr>\n",
       "    <tr>\n",
       "      <th>4</th>\n",
       "      <td>11</td>\n",
       "      <td>NaN</td>\n",
       "      <td>NaN</td>\n",
       "      <td>typhoon soudelor kill china taiwan</td>\n",
       "    </tr>\n",
       "    <tr>\n",
       "      <th>...</th>\n",
       "      <td>...</td>\n",
       "      <td>...</td>\n",
       "      <td>...</td>\n",
       "      <td>...</td>\n",
       "    </tr>\n",
       "    <tr>\n",
       "      <th>3258</th>\n",
       "      <td>10861</td>\n",
       "      <td>NaN</td>\n",
       "      <td>NaN</td>\n",
       "      <td>earthquake safety los angeles safety fastener ...</td>\n",
       "    </tr>\n",
       "    <tr>\n",
       "      <th>3259</th>\n",
       "      <td>10865</td>\n",
       "      <td>NaN</td>\n",
       "      <td>NaN</td>\n",
       "      <td>storm ri worse last hurricane city amp others ...</td>\n",
       "    </tr>\n",
       "    <tr>\n",
       "      <th>3260</th>\n",
       "      <td>10868</td>\n",
       "      <td>NaN</td>\n",
       "      <td>NaN</td>\n",
       "      <td>green line derailment chicago http co utbxlcbiuy</td>\n",
       "    </tr>\n",
       "    <tr>\n",
       "      <th>3261</th>\n",
       "      <td>10874</td>\n",
       "      <td>NaN</td>\n",
       "      <td>NaN</td>\n",
       "      <td>meg issue hazardous weather outlook hwo http c...</td>\n",
       "    </tr>\n",
       "    <tr>\n",
       "      <th>3262</th>\n",
       "      <td>10875</td>\n",
       "      <td>NaN</td>\n",
       "      <td>NaN</td>\n",
       "      <td>cityofcalgary activated municipal emergency pl...</td>\n",
       "    </tr>\n",
       "  </tbody>\n",
       "</table>\n",
       "<p>3263 rows × 4 columns</p>\n",
       "</div>"
      ],
      "text/plain": [
       "         id keyword location  \\\n",
       "0         0     NaN      NaN   \n",
       "1         2     NaN      NaN   \n",
       "2         3     NaN      NaN   \n",
       "3         9     NaN      NaN   \n",
       "4        11     NaN      NaN   \n",
       "...     ...     ...      ...   \n",
       "3258  10861     NaN      NaN   \n",
       "3259  10865     NaN      NaN   \n",
       "3260  10868     NaN      NaN   \n",
       "3261  10874     NaN      NaN   \n",
       "3262  10875     NaN      NaN   \n",
       "\n",
       "                                                   text  \n",
       "0                           happened terrible car crash  \n",
       "1     heard earthquake different city stay safe ever...  \n",
       "2     forest fire spot pond goose fleeing across str...  \n",
       "3                  apocalypse lighting spokane wildfire  \n",
       "4                    typhoon soudelor kill china taiwan  \n",
       "...                                                 ...  \n",
       "3258  earthquake safety los angeles safety fastener ...  \n",
       "3259  storm ri worse last hurricane city amp others ...  \n",
       "3260   green line derailment chicago http co utbxlcbiuy  \n",
       "3261  meg issue hazardous weather outlook hwo http c...  \n",
       "3262  cityofcalgary activated municipal emergency pl...  \n",
       "\n",
       "[3263 rows x 4 columns]"
      ]
     },
     "execution_count": 18,
     "metadata": {},
     "output_type": "execute_result"
    }
   ],
   "source": [
    "df_test"
   ]
  },
  {
   "cell_type": "code",
   "execution_count": 16,
   "id": "80821a14",
   "metadata": {},
   "outputs": [
    {
     "name": "stdout",
     "output_type": "stream",
     "text": [
      "Minimum error:- 0.22390019697964544 at K = 40\n",
      "CPU times: total: 0 ns\n",
      "Wall time: 0 ns\n"
     ]
    },
    {
     "data": {
      "image/png": "[encoded data removed]",
      "text/plain": [
       "<Figure size 720x432 with 1 Axes>"
      ]
     },
     "metadata": {
      "needs_background": "light"
     },
     "output_type": "display_data"
    }
   ],
   "source": [
    "error_rate = []\n",
    "for i in range(1, 80):\n",
    "    predicted = knn_pipeline(i, train_x = X_train_findk, train_y = y_train_findk, predict_x = X_test_findk) \n",
    "    error_rate.append(np.mean(predicted != y_test_findk))\n",
    "\n",
    "plt.figure(figsize=(10, 6))\n",
    "plt.plot(range(1, 80), error_rate, color = 'blue', linestyle = 'dashed', \n",
    "         marker = 'o', markerfacecolor = 'red', markersize = 10)\n",
    "plt.title('Error Rate vs. K Value')\n",
    "plt.xlabel('K')\n",
    "plt.ylabel('Error Rate')\n",
    "print(\"Minimum error:-\", min(error_rate), \"at K =\", error_rate.index(min(error_rate)))\n",
    "%time"
   ]
  },
  {
   "cell_type": "code",
   "execution_count": 17,
   "id": "87e36744",
   "metadata": {
    "scrolled": false
   },
   "outputs": [
    {
     "name": "stdout",
     "output_type": "stream",
     "text": [
      "Maximum f1 score:- 0.7151211361737678 at K = 43\n"
     ]
    },
    {
     "name": "stderr",
     "output_type": "stream",
     "text": [
      "UsageError: Line magic function `%%time` not found.\n"
     ]
    },
    {
     "data": {
      "image/png": "[encoded data removed]",
      "text/plain": [
       "<Figure size 720x432 with 1 Axes>"
      ]
     },
     "metadata": {
      "needs_background": "light"
     },
     "output_type": "display_data"
    }
   ],
   "source": [
    "%%time\n",
    "f1 = []\n",
    "# (best_f1_score, k_value)\n",
    "best_score = (0, 0)\n",
    "    \n",
    "for i in range(1, 80):\n",
    "    predicted = knn_pipeline(i, train_x = X_train_findk, train_y = y_train_findk, predict_x = X_test_findk) \n",
    "\n",
    "    f1.append(f1_score(y_test_findk, predicted))\n",
    "\n",
    "    if f1[i - 1] > best_score[0]:\n",
    "        best_score = (f1[i - 1], i)\n",
    "        best_prediction = predicted\n",
    "\n",
    "plt.figure(figsize = (10, 6))\n",
    "plt.plot(range(1, 80), f1, color = 'blue', linestyle = 'dashed', \n",
    "             marker = 'o', markerfacecolor = 'red', markersize = 10)\n",
    "plt.title('f1 score vs. K Value')\n",
    "plt.xlabel('K')\n",
    "plt.ylabel('f1 score')\n",
    "print(\"Maximum f1 score:-\", best_score[0], \"at K =\", best_score[1])"
   ]
  },
  {
   "cell_type": "code",
   "execution_count": null,
   "id": "be12d4e5",
   "metadata": {},
   "outputs": [],
   "source": [
    "#export_csv(knn_pipeline(42), \"best_k.csv\")"
   ]
  },
  {
   "cell_type": "code",
   "execution_count": 19,
   "id": "46c780b9",
   "metadata": {},
   "outputs": [
    {
     "data": {
      "text/plain": [
       "array([1, 0, 0, ..., 0, 1, 1], dtype=int64)"
      ]
     },
     "execution_count": 19,
     "metadata": {},
     "output_type": "execute_result"
    }
   ],
   "source": [
    "best_prediction.uni"
   ]
  },
  {
   "cell_type": "markdown",
   "id": "1d5d0476",
   "metadata": {},
   "source": [
    "Pogledajmo ima li smisla smanjiti vokabular samo na ključne riječi koje smo dobili u podacima"
   ]
  },
  {
   "cell_type": "code",
   "execution_count": null,
   "id": "bfc3bfa4",
   "metadata": {},
   "outputs": [],
   "source": [
    "keywords = list(train_data[\"keyword\"].unique())\n",
    "keywords.remove(keywords[0]) # makni nan\n",
    "keywords"
   ]
  },
  {
   "cell_type": "code",
   "execution_count": null,
   "id": "a4ca4092",
   "metadata": {
    "scrolled": false
   },
   "outputs": [],
   "source": [
    "f1 = []\n",
    "# (best_f1_score, k_value)\n",
    "best_score = (0, 0)\n",
    "\n",
    "for i in range(1, 80):\n",
    "    predicted = knn_pipeline(i, vocabulary = keywords, train_x = X_train_findk, train_y = y_train_findk,\n",
    "                             predict_x = X_test_findk) \n",
    "    \n",
    "    f1.append(f1_score(y_test_findk, predicted))\n",
    "    \n",
    "    if f1[i - 1] > best_score[0]:\n",
    "        best_score = (f1[i - 1], i)\n",
    "        best_prediction = predicted\n",
    "\n",
    "plt.figure(figsize = (10, 6))\n",
    "plt.plot(range(1, 80), f1, color = 'blue', linestyle = 'dashed', \n",
    "         marker = 'o', markerfacecolor = 'red', markersize = 10)\n",
    "plt.title('f1 score vs. K Value')\n",
    "plt.xlabel('K')\n",
    "plt.ylabel('f1 score')\n",
    "print(\"Maximum f1 score:-\", best_score[0], \"at K =\", best_score[1])\n",
    "%time"
   ]
  },
  {
   "cell_type": "markdown",
   "id": "a0b28663",
   "metadata": {},
   "source": [
    "Očito model nije dovoljno kompleksan smanjivanjem vokabulara samo na ove ključne riječi. Možemo li krenuti suprotnim smjerom smanjenjem dimenzionalnosti ili odabirom značajki?"
   ]
  },
  {
   "cell_type": "code",
   "execution_count": null,
   "id": "d645aec5",
   "metadata": {},
   "outputs": [],
   "source": [
    "from sklearn.model_selection import StratifiedKFold\n",
    "from sklearn.feature_selection import RFECV\n",
    "from sklearn.ensemble import RandomForestClassifier\n",
    "\n",
    "rfecv_rf = RFECV(RandomForestClassifier(n_estimators=100,random_state=0,n_jobs=-1), \n",
    "                 step=500,\n",
    "                 cv=StratifiedKFold(n_splits=2),\n",
    "                 scoring='f1')"
   ]
  },
  {
   "cell_type": "code",
   "execution_count": null,
   "id": "526795c8",
   "metadata": {},
   "outputs": [],
   "source": [
    "def knn_pipeline_features(k_value, vocabulary = None, train_x = X_train, train_y = y_train, predict_x = X_test):\n",
    "    # sve zajedno stavljamo u pipeline\n",
    "    knn = KNeighborsClassifier(n_neighbors = k_value)\n",
    "    tweet_clf = Pipeline([\n",
    "        ('vect', CountVectorizer(vocabulary = vocabulary)),\n",
    "        ('tfidf', TfidfTransformer()),\n",
    "        ('feat', rfecv_rf),\n",
    "        ('clf', knn),\n",
    "    ])\n",
    "    # fitamo podatke za treniranje\n",
    "    tweet_clf.fit(train_x, train_y)\n",
    "    \n",
    "    # klasificiramo testne podatke\n",
    "    predicted = tweet_clf.predict(predict_x)\n",
    "    \n",
    "    return predicted"
   ]
  },
  {
   "cell_type": "code",
   "execution_count": null,
   "id": "962f4d47",
   "metadata": {
    "scrolled": true
   },
   "outputs": [],
   "source": [
    "predicted = knn_pipeline_features(i, train_x = X_train_findk, train_y = y_train_findk, predict_x = X_test_findk) \n",
    "f1_score(y_test_findk, predicted)"
   ]
  },
  {
   "cell_type": "markdown",
   "id": "fc2fe497",
   "metadata": {},
   "source": [
    "Vidimo da nemamo sreće s odabirom značajki, a i postupak je predug da bismo otkrili najbolji mogući broj."
   ]
  },
  {
   "cell_type": "code",
   "execution_count": null,
   "id": "e4ccd28c",
   "metadata": {},
   "outputs": [],
   "source": [
    "from sklearn.decomposition import TruncatedSVD"
   ]
  },
  {
   "cell_type": "code",
   "execution_count": null,
   "id": "6199f5e2",
   "metadata": {},
   "outputs": [],
   "source": [
    "def knn_pipeline_dim(k_value, vocabulary = None, train_x = X_train, train_y = y_train, predict_x = X_test):\n",
    "    # sve zajedno stavljamo u pipeline\n",
    "    knn = KNeighborsClassifier(n_neighbors = k_value)\n",
    "    tweet_clf = Pipeline([\n",
    "        ('vect', CountVectorizer(vocabulary = vocabulary)),\n",
    "        ('tfidf', TfidfTransformer()),\n",
    "        ('dim', TruncatedSVD()),\n",
    "        ('clf', knn),\n",
    "    ])\n",
    "    # fitamo podatke za treniranje\n",
    "    tweet_clf.fit(train_x, train_y)\n",
    "    \n",
    "    # klasificiramo testne podatke\n",
    "    predicted = tweet_clf.predict(predict_x)\n",
    "    \n",
    "    return predicted"
   ]
  },
  {
   "cell_type": "code",
   "execution_count": null,
   "id": "48d1c1fc",
   "metadata": {},
   "outputs": [],
   "source": [
    "predicted = knn_pipeline_dim(i, train_x = X_train_findk, train_y = y_train_findk, predict_x = X_test_findk) \n",
    "f1_score(y_test_findk, predicted)"
   ]
  },
  {
   "cell_type": "markdown",
   "id": "c1f7f698",
   "metadata": {},
   "source": [
    "Isto kao niti sa smanjenjem dimenzionalnosti. Koristimo se metodom TruncatedSVD koja je preporučena metoda za rad sa rijetkim matricama"
   ]
  },
  {
   "cell_type": "markdown",
   "id": "c693006f",
   "metadata": {},
   "source": [
    "Možemo li modificirati mjeru unutar k-nna da određenim riječima daje veću težinu?"
   ]
  },
  {
   "cell_type": "markdown",
   "id": "be61b3d1",
   "metadata": {},
   "source": [
    "# Transformeri"
   ]
  },
  {
   "cell_type": "code",
   "execution_count": null,
   "id": "78abdbe5",
   "metadata": {},
   "outputs": [],
   "source": []
  }
 ],
 "metadata": {
  "kernelspec": {
   "display_name": "Python 3 (ipykernel)",
   "language": "python",
   "name": "python3"
  },
  "language_info": {
   "codemirror_mode": {
    "name": "ipython",
    "version": 3
   },
   "file_extension": ".py",
   "mimetype": "text/x-python",
   "name": "python",
   "nbconvert_exporter": "python",
   "pygments_lexer": "ipython3",
   "version": "3.9.12"
  }
 },
 "nbformat": 4,
 "nbformat_minor": 5
}
